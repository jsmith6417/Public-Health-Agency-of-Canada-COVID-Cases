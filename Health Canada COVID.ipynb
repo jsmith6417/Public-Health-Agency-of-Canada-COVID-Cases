{
 "cells": [
  {
   "cell_type": "markdown",
   "metadata": {},
   "source": [
    "# **Public Health Agency of Canada COVID Cases**"
   ]
  },
  {
   "cell_type": "markdown",
   "metadata": {},
   "source": [
    "Data cleaning and preparation for visualization in Tableau<br>\n",
    "<br>\n",
    "Publisher: Public Health Agency of Canada<br>\n",
    "Licence: Open Government Licence - Canada<br>\n",
    "<br>\n",
    "Homepage<br>\n",
    "https://health-infobase.canada.ca/covid-19/<br>\n",
    "<br>\n",
    "Data<br>\n",
    "https://open.canada.ca/data/en/dataset/261c32ab-4cfd-4f81-9dea-7b64065690dc<br>\n",
    "https://health-infobase.canada.ca/src/data/covidLive/covid19-download.csv"
   ]
  },
  {
   "cell_type": "markdown",
   "metadata": {},
   "source": [
    "Run on Python 3.12.1 | No errors | No warnings"
   ]
  },
  {
   "cell_type": "code",
   "execution_count": 104,
   "metadata": {},
   "outputs": [],
   "source": [
    "# -----------------------\n",
    "# Step 0: Import packages\n",
    "# ----------------------- \n",
    "\n",
    "# For data manipulation\n",
    "import numpy as np\n",
    "import pandas as pd\n",
    "\n",
    "# for displaying and modifying the working directory\n",
    "import os as os"
   ]
  },
  {
   "cell_type": "code",
   "execution_count": 105,
   "metadata": {},
   "outputs": [
    {
     "data": {
      "text/html": [
       "<div>\n",
       "<style scoped>\n",
       "    .dataframe tbody tr th:only-of-type {\n",
       "        vertical-align: middle;\n",
       "    }\n",
       "\n",
       "    .dataframe tbody tr th {\n",
       "        vertical-align: top;\n",
       "    }\n",
       "\n",
       "    .dataframe thead th {\n",
       "        text-align: right;\n",
       "    }\n",
       "</style>\n",
       "<table border=\"1\" class=\"dataframe\">\n",
       "  <thead>\n",
       "    <tr style=\"text-align: right;\">\n",
       "      <th></th>\n",
       "      <th>pruid</th>\n",
       "      <th>prname</th>\n",
       "      <th>prnameFR</th>\n",
       "      <th>date</th>\n",
       "      <th>reporting_week</th>\n",
       "      <th>reporting_year</th>\n",
       "      <th>update</th>\n",
       "      <th>totalcases</th>\n",
       "      <th>numtotal_last7</th>\n",
       "      <th>ratecases_total</th>\n",
       "      <th>...</th>\n",
       "      <th>ratecases_last7</th>\n",
       "      <th>ratedeaths_last7</th>\n",
       "      <th>numtotal_last14</th>\n",
       "      <th>numdeaths_last14</th>\n",
       "      <th>ratetotal_last14</th>\n",
       "      <th>ratedeaths_last14</th>\n",
       "      <th>avgcases_last7</th>\n",
       "      <th>avgincidence_last7</th>\n",
       "      <th>avgdeaths_last7</th>\n",
       "      <th>avgratedeaths_last7</th>\n",
       "    </tr>\n",
       "  </thead>\n",
       "  <tbody>\n",
       "    <tr>\n",
       "      <th>0</th>\n",
       "      <td>59</td>\n",
       "      <td>British Columbia</td>\n",
       "      <td>Colombie-Britannique</td>\n",
       "      <td>2020-02-01</td>\n",
       "      <td>5</td>\n",
       "      <td>2020</td>\n",
       "      <td>1.0</td>\n",
       "      <td>1</td>\n",
       "      <td>1</td>\n",
       "      <td>0.02</td>\n",
       "      <td>...</td>\n",
       "      <td>0.02</td>\n",
       "      <td>0.00</td>\n",
       "      <td>1</td>\n",
       "      <td>0</td>\n",
       "      <td>0.02</td>\n",
       "      <td>0</td>\n",
       "      <td>0.14</td>\n",
       "      <td>0.00</td>\n",
       "      <td>0.00</td>\n",
       "      <td>0.00</td>\n",
       "    </tr>\n",
       "    <tr>\n",
       "      <th>1</th>\n",
       "      <td>48</td>\n",
       "      <td>Alberta</td>\n",
       "      <td>Alberta</td>\n",
       "      <td>2020-02-01</td>\n",
       "      <td>5</td>\n",
       "      <td>2020</td>\n",
       "      <td>1.0</td>\n",
       "      <td>0</td>\n",
       "      <td>0</td>\n",
       "      <td>0.00</td>\n",
       "      <td>...</td>\n",
       "      <td>0.00</td>\n",
       "      <td>0.00</td>\n",
       "      <td>0</td>\n",
       "      <td>0</td>\n",
       "      <td>0</td>\n",
       "      <td>0</td>\n",
       "      <td>0.00</td>\n",
       "      <td>0.00</td>\n",
       "      <td>0.00</td>\n",
       "      <td>0.00</td>\n",
       "    </tr>\n",
       "    <tr>\n",
       "      <th>2</th>\n",
       "      <td>47</td>\n",
       "      <td>Saskatchewan</td>\n",
       "      <td>Saskatchewan</td>\n",
       "      <td>2020-02-01</td>\n",
       "      <td>5</td>\n",
       "      <td>2020</td>\n",
       "      <td>1.0</td>\n",
       "      <td>0</td>\n",
       "      <td>0</td>\n",
       "      <td>0.00</td>\n",
       "      <td>...</td>\n",
       "      <td>0.00</td>\n",
       "      <td>0.00</td>\n",
       "      <td>0</td>\n",
       "      <td>0</td>\n",
       "      <td>0</td>\n",
       "      <td>0</td>\n",
       "      <td>0.00</td>\n",
       "      <td>0.00</td>\n",
       "      <td>0.00</td>\n",
       "      <td>0.00</td>\n",
       "    </tr>\n",
       "    <tr>\n",
       "      <th>3</th>\n",
       "      <td>46</td>\n",
       "      <td>Manitoba</td>\n",
       "      <td>Manitoba</td>\n",
       "      <td>2020-02-01</td>\n",
       "      <td>5</td>\n",
       "      <td>2020</td>\n",
       "      <td>1.0</td>\n",
       "      <td>0</td>\n",
       "      <td>0</td>\n",
       "      <td>0.00</td>\n",
       "      <td>...</td>\n",
       "      <td>0.00</td>\n",
       "      <td>0.00</td>\n",
       "      <td>0</td>\n",
       "      <td>0</td>\n",
       "      <td>0</td>\n",
       "      <td>0</td>\n",
       "      <td>0.00</td>\n",
       "      <td>0.00</td>\n",
       "      <td>0.00</td>\n",
       "      <td>0.00</td>\n",
       "    </tr>\n",
       "    <tr>\n",
       "      <th>4</th>\n",
       "      <td>35</td>\n",
       "      <td>Ontario</td>\n",
       "      <td>Ontario</td>\n",
       "      <td>2020-02-01</td>\n",
       "      <td>5</td>\n",
       "      <td>2020</td>\n",
       "      <td>1.0</td>\n",
       "      <td>3</td>\n",
       "      <td>0</td>\n",
       "      <td>0.02</td>\n",
       "      <td>...</td>\n",
       "      <td>0.00</td>\n",
       "      <td>0.00</td>\n",
       "      <td>3</td>\n",
       "      <td>0</td>\n",
       "      <td>0.02</td>\n",
       "      <td>0</td>\n",
       "      <td>0.00</td>\n",
       "      <td>0.00</td>\n",
       "      <td>0.00</td>\n",
       "      <td>0.00</td>\n",
       "    </tr>\n",
       "  </tbody>\n",
       "</table>\n",
       "<p>5 rows × 23 columns</p>\n",
       "</div>"
      ],
      "text/plain": [
       "   pruid            prname              prnameFR        date  reporting_week  \\\n",
       "0     59  British Columbia  Colombie-Britannique  2020-02-01               5   \n",
       "1     48           Alberta               Alberta  2020-02-01               5   \n",
       "2     47      Saskatchewan          Saskatchewan  2020-02-01               5   \n",
       "3     46          Manitoba              Manitoba  2020-02-01               5   \n",
       "4     35           Ontario               Ontario  2020-02-01               5   \n",
       "\n",
       "   reporting_year  update  totalcases numtotal_last7  ratecases_total  ...  \\\n",
       "0            2020     1.0           1              1             0.02  ...   \n",
       "1            2020     1.0           0              0             0.00  ...   \n",
       "2            2020     1.0           0              0             0.00  ...   \n",
       "3            2020     1.0           0              0             0.00  ...   \n",
       "4            2020     1.0           3              0             0.02  ...   \n",
       "\n",
       "   ratecases_last7 ratedeaths_last7  numtotal_last14 numdeaths_last14  \\\n",
       "0             0.02             0.00                1                0   \n",
       "1             0.00             0.00                0                0   \n",
       "2             0.00             0.00                0                0   \n",
       "3             0.00             0.00                0                0   \n",
       "4             0.00             0.00                3                0   \n",
       "\n",
       "  ratetotal_last14 ratedeaths_last14 avgcases_last7 avgincidence_last7  \\\n",
       "0             0.02                 0           0.14               0.00   \n",
       "1                0                 0           0.00               0.00   \n",
       "2                0                 0           0.00               0.00   \n",
       "3                0                 0           0.00               0.00   \n",
       "4             0.02                 0           0.00               0.00   \n",
       "\n",
       "  avgdeaths_last7 avgratedeaths_last7  \n",
       "0            0.00                0.00  \n",
       "1            0.00                0.00  \n",
       "2            0.00                0.00  \n",
       "3            0.00                0.00  \n",
       "4            0.00                0.00  \n",
       "\n",
       "[5 rows x 23 columns]"
      ]
     },
     "execution_count": 105,
     "metadata": {},
     "output_type": "execute_result"
    }
   ],
   "source": [
    "# -----------------------------------------------\n",
    "# Step 1: Load dataset into dataframe and verify\n",
    "# -----------------------------------------------\n",
    "\n",
    "# Tell python where to find the dataset and load it to dataframe df0\n",
    "os.chdir(r'D:\\OneDrive\\Documents\\Python\\Current\\Health Canada COVID') # absolute path, using \\ and r prefix\n",
    "df0 = pd.read_csv(\"covid19-download.csv\")\n",
    "\n",
    "# Display the first 5 rows of the dataframe\n",
    "df0.head()"
   ]
  },
  {
   "cell_type": "code",
   "execution_count": 106,
   "metadata": {},
   "outputs": [
    {
     "name": "stdout",
     "output_type": "stream",
     "text": [
      "<class 'pandas.core.frame.DataFrame'>\n",
      "RangeIndex: 3090 entries, 0 to 3089\n",
      "Data columns (total 23 columns):\n",
      " #   Column               Non-Null Count  Dtype  \n",
      "---  ------               --------------  -----  \n",
      " 0   pruid                3090 non-null   int64  \n",
      " 1   prname               3090 non-null   object \n",
      " 2   prnameFR             3090 non-null   object \n",
      " 3   date                 3090 non-null   object \n",
      " 4   reporting_week       3090 non-null   int64  \n",
      " 5   reporting_year       3090 non-null   int64  \n",
      " 6   update               2678 non-null   float64\n",
      " 7   totalcases           3090 non-null   int64  \n",
      " 8   numtotal_last7       2775 non-null   object \n",
      " 9   ratecases_total      2884 non-null   float64\n",
      " 10  numdeaths            3090 non-null   int64  \n",
      " 11  numdeaths_last7      2744 non-null   object \n",
      " 12  ratedeaths           2884 non-null   float64\n",
      " 13  ratecases_last7      2569 non-null   object \n",
      " 14  ratedeaths_last7     2538 non-null   object \n",
      " 15  numtotal_last14      2779 non-null   object \n",
      " 16  numdeaths_last14     2761 non-null   object \n",
      " 17  ratetotal_last14     2573 non-null   object \n",
      " 18  ratedeaths_last14    2555 non-null   object \n",
      " 19  avgcases_last7       2775 non-null   object \n",
      " 20  avgincidence_last7   2569 non-null   object \n",
      " 21  avgdeaths_last7      2744 non-null   object \n",
      " 22  avgratedeaths_last7  2538 non-null   object \n",
      "dtypes: float64(3), int64(5), object(15)\n",
      "memory usage: 555.4+ KB\n"
     ]
    }
   ],
   "source": [
    "# ------------------------------------------------------------\n",
    "# Step 2: Initial Exploratory Data Analysis (EDA) and Cleaning\n",
    "# ------------------------------------------------------------\n",
    "\n",
    "# Display basic information about the data \n",
    "df0.info()"
   ]
  },
  {
   "cell_type": "code",
   "execution_count": 107,
   "metadata": {},
   "outputs": [
    {
     "data": {
      "text/plain": [
       "(3090, 23)"
      ]
     },
     "execution_count": 107,
     "metadata": {},
     "output_type": "execute_result"
    }
   ],
   "source": [
    "# Display the dataframe shape (rows, columns)\n",
    "df0.shape"
   ]
  },
  {
   "cell_type": "code",
   "execution_count": 108,
   "metadata": {},
   "outputs": [
    {
     "data": {
      "text/html": [
       "<div>\n",
       "<style scoped>\n",
       "    .dataframe tbody tr th:only-of-type {\n",
       "        vertical-align: middle;\n",
       "    }\n",
       "\n",
       "    .dataframe tbody tr th {\n",
       "        vertical-align: top;\n",
       "    }\n",
       "\n",
       "    .dataframe thead th {\n",
       "        text-align: right;\n",
       "    }\n",
       "</style>\n",
       "<table border=\"1\" class=\"dataframe\">\n",
       "  <thead>\n",
       "    <tr style=\"text-align: right;\">\n",
       "      <th></th>\n",
       "      <th>pruid</th>\n",
       "      <th>reporting_week</th>\n",
       "      <th>reporting_year</th>\n",
       "      <th>update</th>\n",
       "      <th>totalcases</th>\n",
       "      <th>ratecases_total</th>\n",
       "      <th>numdeaths</th>\n",
       "      <th>ratedeaths</th>\n",
       "    </tr>\n",
       "  </thead>\n",
       "  <tbody>\n",
       "    <tr>\n",
       "      <th>count</th>\n",
       "      <td>3090.000000</td>\n",
       "      <td>3090.000000</td>\n",
       "      <td>3090.000000</td>\n",
       "      <td>2678.000000</td>\n",
       "      <td>3.090000e+03</td>\n",
       "      <td>2884.000000</td>\n",
       "      <td>3090.000000</td>\n",
       "      <td>2884.000000</td>\n",
       "    </tr>\n",
       "    <tr>\n",
       "      <th>mean</th>\n",
       "      <td>39.200000</td>\n",
       "      <td>26.970874</td>\n",
       "      <td>2021.533981</td>\n",
       "      <td>0.893204</td>\n",
       "      <td>3.430198e+05</td>\n",
       "      <td>7195.108942</td>\n",
       "      <td>4327.040129</td>\n",
       "      <td>57.891883</td>\n",
       "    </tr>\n",
       "    <tr>\n",
       "      <th>std</th>\n",
       "      <td>26.287836</td>\n",
       "      <td>14.921261</td>\n",
       "      <td>1.122035</td>\n",
       "      <td>0.308912</td>\n",
       "      <td>8.439252e+05</td>\n",
       "      <td>7502.902507</td>\n",
       "      <td>9834.138434</td>\n",
       "      <td>55.481004</td>\n",
       "    </tr>\n",
       "    <tr>\n",
       "      <th>min</th>\n",
       "      <td>1.000000</td>\n",
       "      <td>1.000000</td>\n",
       "      <td>2020.000000</td>\n",
       "      <td>0.000000</td>\n",
       "      <td>0.000000e+00</td>\n",
       "      <td>0.000000</td>\n",
       "      <td>0.000000</td>\n",
       "      <td>0.000000</td>\n",
       "    </tr>\n",
       "    <tr>\n",
       "      <th>25%</th>\n",
       "      <td>12.000000</td>\n",
       "      <td>14.000000</td>\n",
       "      <td>2021.000000</td>\n",
       "      <td>1.000000</td>\n",
       "      <td>6.752500e+02</td>\n",
       "      <td>280.670000</td>\n",
       "      <td>6.000000</td>\n",
       "      <td>5.742500</td>\n",
       "    </tr>\n",
       "    <tr>\n",
       "      <th>50%</th>\n",
       "      <td>46.000000</td>\n",
       "      <td>27.000000</td>\n",
       "      <td>2022.000000</td>\n",
       "      <td>1.000000</td>\n",
       "      <td>3.901150e+04</td>\n",
       "      <td>6251.595000</td>\n",
       "      <td>196.000000</td>\n",
       "      <td>48.240000</td>\n",
       "    </tr>\n",
       "    <tr>\n",
       "      <th>75%</th>\n",
       "      <td>60.000000</td>\n",
       "      <td>40.000000</td>\n",
       "      <td>2023.000000</td>\n",
       "      <td>1.000000</td>\n",
       "      <td>1.595650e+05</td>\n",
       "      <td>11235.790000</td>\n",
       "      <td>2937.750000</td>\n",
       "      <td>95.167500</td>\n",
       "    </tr>\n",
       "    <tr>\n",
       "      <th>max</th>\n",
       "      <td>99.000000</td>\n",
       "      <td>53.000000</td>\n",
       "      <td>2024.000000</td>\n",
       "      <td>1.000000</td>\n",
       "      <td>4.901250e+06</td>\n",
       "      <td>34136.550000</td>\n",
       "      <td>57516.000000</td>\n",
       "      <td>223.960000</td>\n",
       "    </tr>\n",
       "  </tbody>\n",
       "</table>\n",
       "</div>"
      ],
      "text/plain": [
       "             pruid  reporting_week  reporting_year       update    totalcases  \\\n",
       "count  3090.000000     3090.000000     3090.000000  2678.000000  3.090000e+03   \n",
       "mean     39.200000       26.970874     2021.533981     0.893204  3.430198e+05   \n",
       "std      26.287836       14.921261        1.122035     0.308912  8.439252e+05   \n",
       "min       1.000000        1.000000     2020.000000     0.000000  0.000000e+00   \n",
       "25%      12.000000       14.000000     2021.000000     1.000000  6.752500e+02   \n",
       "50%      46.000000       27.000000     2022.000000     1.000000  3.901150e+04   \n",
       "75%      60.000000       40.000000     2023.000000     1.000000  1.595650e+05   \n",
       "max      99.000000       53.000000     2024.000000     1.000000  4.901250e+06   \n",
       "\n",
       "       ratecases_total     numdeaths   ratedeaths  \n",
       "count      2884.000000   3090.000000  2884.000000  \n",
       "mean       7195.108942   4327.040129    57.891883  \n",
       "std        7502.902507   9834.138434    55.481004  \n",
       "min           0.000000      0.000000     0.000000  \n",
       "25%         280.670000      6.000000     5.742500  \n",
       "50%        6251.595000    196.000000    48.240000  \n",
       "75%       11235.790000   2937.750000    95.167500  \n",
       "max       34136.550000  57516.000000   223.960000  "
      ]
     },
     "execution_count": 108,
     "metadata": {},
     "output_type": "execute_result"
    }
   ],
   "source": [
    "# Display descriptive statistics about the data\n",
    "df0.describe()"
   ]
  },
  {
   "cell_type": "code",
   "execution_count": 109,
   "metadata": {},
   "outputs": [
    {
     "data": {
      "text/plain": [
       "Index(['pruid', 'prname', 'prnameFR', 'date', 'reporting_week',\n",
       "       'reporting_year', 'update', 'totalcases', 'numtotal_last7',\n",
       "       'ratecases_total', 'numdeaths', 'numdeaths_last7', 'ratedeaths',\n",
       "       'ratecases_last7', 'ratedeaths_last7', 'numtotal_last14',\n",
       "       'numdeaths_last14', 'ratetotal_last14', 'ratedeaths_last14',\n",
       "       'avgcases_last7', 'avgincidence_last7', 'avgdeaths_last7',\n",
       "       'avgratedeaths_last7'],\n",
       "      dtype='object')"
      ]
     },
     "execution_count": 109,
     "metadata": {},
     "output_type": "execute_result"
    }
   ],
   "source": [
    "# Display column names \n",
    "df0.columns"
   ]
  },
  {
   "cell_type": "code",
   "execution_count": 110,
   "metadata": {},
   "outputs": [],
   "source": [
    "# Drop the columns we don't need. They're aggregate, overlapping or not needed\n",
    "columns_to_drop = ['pruid', 'prnameFR', 'reporting_week', 'reporting_year', 'update', 'totalcases', 'ratecases_total', 'numdeaths', 'ratedeaths', 'numtotal_last14', 'numdeaths_last14', 'ratetotal_last14', 'ratedeaths_last14', 'avgcases_last7', 'avgincidence_last7', 'avgdeaths_last7', 'avgratedeaths_last7']\n",
    "if all(col in df0.columns for col in columns_to_drop):\n",
    "    df0 = df0.drop(columns_to_drop, axis=1)\n",
    "else:\n",
    "    print(\"One or more columns not found in the dataframe.\")\n"
   ]
  },
  {
   "cell_type": "code",
   "execution_count": 111,
   "metadata": {},
   "outputs": [
    {
     "data": {
      "text/plain": [
       "Index(['prname', 'date', 'numtotal_last7', 'numdeaths_last7',\n",
       "       'ratecases_last7', 'ratedeaths_last7'],\n",
       "      dtype='object')"
      ]
     },
     "execution_count": 111,
     "metadata": {},
     "output_type": "execute_result"
    }
   ],
   "source": [
    "# Verify that we have the columns we need\n",
    "df0.columns"
   ]
  },
  {
   "cell_type": "code",
   "execution_count": 112,
   "metadata": {},
   "outputs": [
    {
     "name": "stdout",
     "output_type": "stream",
     "text": [
      "<class 'pandas.core.frame.DataFrame'>\n",
      "RangeIndex: 3090 entries, 0 to 3089\n",
      "Data columns (total 6 columns):\n",
      " #   Column            Non-Null Count  Dtype \n",
      "---  ------            --------------  ----- \n",
      " 0   prname            3090 non-null   object\n",
      " 1   date              3090 non-null   object\n",
      " 2   numtotal_last7    2775 non-null   object\n",
      " 3   numdeaths_last7   2744 non-null   object\n",
      " 4   ratecases_last7   2569 non-null   object\n",
      " 5   ratedeaths_last7  2538 non-null   object\n",
      "dtypes: object(6)\n",
      "memory usage: 145.0+ KB\n"
     ]
    }
   ],
   "source": [
    "# Verify that we still have the same number of records\n",
    "df0.info()"
   ]
  },
  {
   "cell_type": "code",
   "execution_count": 113,
   "metadata": {},
   "outputs": [],
   "source": [
    "# Drop the prname values we don't need.\n",
    "values_to_drop = ['Canada', 'Repatriated travellers']\n",
    "df0 = df0[~df0['prname'].isin(values_to_drop)]"
   ]
  },
  {
   "cell_type": "code",
   "execution_count": 114,
   "metadata": {},
   "outputs": [
    {
     "name": "stdout",
     "output_type": "stream",
     "text": [
      "<class 'pandas.core.frame.DataFrame'>\n",
      "Index: 2678 entries, 0 to 3087\n",
      "Data columns (total 6 columns):\n",
      " #   Column            Non-Null Count  Dtype \n",
      "---  ------            --------------  ----- \n",
      " 0   prname            2678 non-null   object\n",
      " 1   date              2678 non-null   object\n",
      " 2   numtotal_last7    2363 non-null   object\n",
      " 3   numdeaths_last7   2332 non-null   object\n",
      " 4   ratecases_last7   2363 non-null   object\n",
      " 5   ratedeaths_last7  2332 non-null   object\n",
      "dtypes: object(6)\n",
      "memory usage: 146.5+ KB\n"
     ]
    }
   ],
   "source": [
    "# Verify the changes\n",
    "df0.info()"
   ]
  },
  {
   "cell_type": "markdown",
   "metadata": {},
   "source": [
    "There are some missing (null or N/A) values in the counts and rates columns."
   ]
  },
  {
   "cell_type": "code",
   "execution_count": 115,
   "metadata": {},
   "outputs": [],
   "source": [
    "# Rename prname to Province (to ensure that Tableau will display a map of Canada)\n",
    "df0.rename(columns={'prname': 'Province'}, inplace=True)"
   ]
  },
  {
   "cell_type": "code",
   "execution_count": 116,
   "metadata": {},
   "outputs": [],
   "source": [
    "# Add a column for country and populate it with Canada for all rows (to ensure that Tableau will display a map of Canada)\n",
    "df0 = df0.assign(Country='Canada')"
   ]
  },
  {
   "cell_type": "code",
   "execution_count": 117,
   "metadata": {},
   "outputs": [],
   "source": [
    "# Change the case count and death count columns to integers and replace blanks with zeros\n",
    "df0['numtotal_last7'] = pd.to_numeric(df0['numtotal_last7'], errors='coerce').fillna(0).astype(int)\n",
    "df0['numdeaths_last7'] = pd.to_numeric(df0['numdeaths_last7'], errors='coerce').fillna(0).astype(int)"
   ]
  },
  {
   "cell_type": "code",
   "execution_count": 118,
   "metadata": {},
   "outputs": [],
   "source": [
    "# Change the case rate and death rate columns to decimals and replace blanks with zeros\n",
    "df0['ratecases_last7'] = pd.to_numeric(df0['ratecases_last7'], errors='coerce').fillna(0).astype(float)\n",
    "df0['ratedeaths_last7'] = pd.to_numeric(df0['ratedeaths_last7'], errors='coerce').fillna(0).astype(float)"
   ]
  },
  {
   "cell_type": "markdown",
   "metadata": {},
   "source": [
    "errors='coerce' replaces non-numeric values such as dashes in place of zeros with NaN. fillna(0) replaces NaN values with zeros."
   ]
  },
  {
   "cell_type": "code",
   "execution_count": 119,
   "metadata": {},
   "outputs": [
    {
     "name": "stdout",
     "output_type": "stream",
     "text": [
      "<class 'pandas.core.frame.DataFrame'>\n",
      "Index: 2678 entries, 0 to 3087\n",
      "Data columns (total 7 columns):\n",
      " #   Column            Non-Null Count  Dtype  \n",
      "---  ------            --------------  -----  \n",
      " 0   Province          2678 non-null   object \n",
      " 1   date              2678 non-null   object \n",
      " 2   numtotal_last7    2678 non-null   int32  \n",
      " 3   numdeaths_last7   2678 non-null   int32  \n",
      " 4   ratecases_last7   2678 non-null   float64\n",
      " 5   ratedeaths_last7  2678 non-null   float64\n",
      " 6   Country           2678 non-null   object \n",
      "dtypes: float64(2), int32(2), object(3)\n",
      "memory usage: 146.5+ KB\n"
     ]
    }
   ],
   "source": [
    "# Make sure the new column (Country) is present and the data types for all columns are correct\n",
    "df0.info()"
   ]
  },
  {
   "cell_type": "code",
   "execution_count": 120,
   "metadata": {},
   "outputs": [],
   "source": [
    "# Drop rows where numtotal_last7 and numdeaths_last7 are both 0 (no cases or deaths reported)\n",
    "df0 = df0[(df0['numtotal_last7'] != 0) | (df0['numdeaths_last7'] != 0)]"
   ]
  },
  {
   "cell_type": "code",
   "execution_count": 121,
   "metadata": {},
   "outputs": [
    {
     "name": "stdout",
     "output_type": "stream",
     "text": [
      "<class 'pandas.core.frame.DataFrame'>\n",
      "Index: 2117 entries, 0 to 3084\n",
      "Data columns (total 7 columns):\n",
      " #   Column            Non-Null Count  Dtype  \n",
      "---  ------            --------------  -----  \n",
      " 0   Province          2117 non-null   object \n",
      " 1   date              2117 non-null   object \n",
      " 2   numtotal_last7    2117 non-null   int32  \n",
      " 3   numdeaths_last7   2117 non-null   int32  \n",
      " 4   ratecases_last7   2117 non-null   float64\n",
      " 5   ratedeaths_last7  2117 non-null   float64\n",
      " 6   Country           2117 non-null   object \n",
      "dtypes: float64(2), int32(2), object(3)\n",
      "memory usage: 115.8+ KB\n"
     ]
    }
   ],
   "source": [
    "# Verify changes and record counts before saving the cleaned data\n",
    "df0.info()"
   ]
  },
  {
   "cell_type": "code",
   "execution_count": 122,
   "metadata": {},
   "outputs": [],
   "source": [
    "# Save prepped data to csv\n",
    "df0.to_csv('Health Canada Covid for Tableau.csv', index=False, encoding='utf-8')"
   ]
  }
 ],
 "metadata": {
  "kernelspec": {
   "display_name": "Python 3",
   "language": "python",
   "name": "python3"
  },
  "language_info": {
   "codemirror_mode": {
    "name": "ipython",
    "version": 3
   },
   "file_extension": ".py",
   "mimetype": "text/x-python",
   "name": "python",
   "nbconvert_exporter": "python",
   "pygments_lexer": "ipython3",
   "version": "3.12.1"
  }
 },
 "nbformat": 4,
 "nbformat_minor": 2
}
